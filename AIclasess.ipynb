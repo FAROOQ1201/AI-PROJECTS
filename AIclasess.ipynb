{
  "nbformat": 4,
  "nbformat_minor": 0,
  "metadata": {
    "colab": {
      "provenance": [],
      "authorship_tag": "ABX9TyMj7EyWb71wcYvKH3dC+aFW",
      "include_colab_link": true
    },
    "kernelspec": {
      "name": "python3",
      "display_name": "Python 3"
    },
    "language_info": {
      "name": "python"
    }
  },
  "cells": [
    {
      "cell_type": "markdown",
      "metadata": {
        "id": "view-in-github",
        "colab_type": "text"
      },
      "source": [
        "<a href=\"https://colab.research.google.com/github/FAROOQ1201/AI-PROJECTS/blob/main/AIclasess.ipynb\" target=\"_parent\"><img src=\"https://colab.research.google.com/assets/colab-badge.svg\" alt=\"Open In Colab\"/></a>"
      ]
    },
    {
      "cell_type": "code",
      "execution_count": 8,
      "metadata": {
        "colab": {
          "base_uri": "https://localhost:8080/"
        },
        "id": "7e0NaCPavaRV",
        "outputId": "ba656d18-5db1-4087-fc27-39a278f4d36e"
      },
      "outputs": [
        {
          "output_type": "stream",
          "name": "stdout",
          "text": [
            "Enter the temparature50\n",
            "wear cotton cloths\n"
          ]
        }
      ],
      "source": [
        "#Clothing Recomendation\n",
        "# temp <15 → warm cloths,20-30 → Normal,30+ → cotton or silk\n",
        "def cloths(temparature):\n",
        "    if temparature<= 15:\n",
        "        print(\"Wear Warm Cloths\")\n",
        "    elif temparature >= 20 and temparature <= 30:\n",
        "        print(\"wear Normal cloths\")\n",
        "    elif temparature >= 30:\n",
        "        print(\"wear cotton cloths\")\n",
        "    else:  # marks < 50\n",
        "        print(\"wear silk cloths\")\n",
        "temparature=int(input(\"Enter the temparature\"))\n",
        "cloths(temparature)\n"
      ]
    },
    {
      "cell_type": "code",
      "source": [],
      "metadata": {
        "id": "lhyFErWR6x25"
      },
      "execution_count": null,
      "outputs": []
    }
  ]
}